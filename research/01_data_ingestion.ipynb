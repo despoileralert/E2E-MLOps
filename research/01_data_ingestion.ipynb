{
 "cells": [
  {
   "cell_type": "code",
   "execution_count": 13,
   "id": "19132878",
   "metadata": {},
   "outputs": [
    {
     "data": {
      "text/plain": [
       "'d:\\\\mlopsproject1\\\\E2E-MLops'"
      ]
     },
     "execution_count": 13,
     "metadata": {},
     "output_type": "execute_result"
    }
   ],
   "source": [
    "import os\n",
    "%pwd"
   ]
  },
  {
   "cell_type": "code",
   "execution_count": 21,
   "id": "6999320d",
   "metadata": {},
   "outputs": [],
   "source": [
    "os.chdir(\"E2E-MLOps\")"
   ]
  },
  {
   "cell_type": "code",
   "execution_count": 22,
   "id": "714a27af",
   "metadata": {},
   "outputs": [
    {
     "data": {
      "text/plain": [
       "'d:\\\\mlopsproject1\\\\E2E-MLOps'"
      ]
     },
     "execution_count": 22,
     "metadata": {},
     "output_type": "execute_result"
    }
   ],
   "source": [
    "%pwd"
   ]
  },
  {
   "cell_type": "code",
   "execution_count": 23,
   "id": "8af3d27f",
   "metadata": {},
   "outputs": [],
   "source": [
    "from dataclasses import dataclass\n",
    "from pathlib import Path\n",
    "\n",
    "@dataclass(frozen=True)\n",
    "class DataIngestionConfig: \n",
    "    root_dir: Path\n",
    "    source_url: str\n",
    "    local_data_file: Path\n",
    "    unzip_dir: Path"
   ]
  },
  {
   "cell_type": "code",
   "execution_count": 38,
   "id": "b1370cf9",
   "metadata": {},
   "outputs": [],
   "source": [
    "from cnnClassifier.constants.__init__ import *\n",
    "from cnnClassifier.utils.common import read_yaml, create_directories"
   ]
  },
  {
   "cell_type": "code",
   "execution_count": 39,
   "id": "046117dd",
   "metadata": {},
   "outputs": [
    {
     "name": "stdout",
     "output_type": "stream",
     "text": [
      "config\\config.yaml\n"
     ]
    }
   ],
   "source": [
    "print(CONFIG_FILE_PATH)"
   ]
  },
  {
   "cell_type": "code",
   "execution_count": 40,
   "id": "47385f19",
   "metadata": {},
   "outputs": [],
   "source": [
    "class ConfigurationManager:\n",
    "    def __init__(\n",
    "        self,\n",
    "        config_filepath = CONFIG_FILE_PATH,\n",
    "        params_filepath = PARAMS_FILE_PATH):\n",
    "\n",
    "        self.config = read_yaml(config_filepath)\n",
    "        self.params = read_yaml(params_filepath)\n",
    "\n",
    "        create_directories([self.config.artifacts_root])\n",
    "\n",
    "    def get_data_ingestion_config(self) -> DataIngestionConfig:\n",
    "        config = self.config.data_ingestion\n",
    "        create_directories([config.root_dir])\n",
    "\n",
    "        data_ingestion_config = DataIngestionConfig(\n",
    "            root_dir=config.root_dir,\n",
    "            source_url=config.source_url,\n",
    "            local_data_file=config.local_data_file,\n",
    "            unzip_dir=config.unzip_dir\n",
    "        )\n",
    "\n",
    "        return data_ingestion_config"
   ]
  },
  {
   "cell_type": "code",
   "execution_count": 42,
   "id": "5e19eab3",
   "metadata": {},
   "outputs": [],
   "source": [
    "import os\n",
    "import zipfile\n",
    "import gdown\n",
    "from cnnClassifier import logger\n",
    "from cnnClassifier.utils.common import get_size"
   ]
  },
  {
   "cell_type": "code",
   "execution_count": 47,
   "id": "5e6b4bd4",
   "metadata": {},
   "outputs": [],
   "source": [
    "class DataIngestion:\n",
    "    def __init__(self, config = DataIngestionConfig):\n",
    "        self.config = config\n",
    "    \n",
    "    def download_file(self) -> str:\n",
    "        '''\n",
    "        Fetches data from the URL\n",
    "        \n",
    "        '''\n",
    "        try:\n",
    "            dataset_url = self.config.source_url\n",
    "            zip_download_dir = self.config.local_data_file\n",
    "            os.makedirs(\"artifacts/data_ingestion\", exist_ok = True)\n",
    "            logger.info(f\"Downloading data from {dataset_url}\")\n",
    "\n",
    "            file_id = dataset_url.split(\"/\")[-2]\n",
    "            prefix = 'https://drive.google.com/uc?/export=download&id='\n",
    "            gdown.download(prefix+file_id, zip_download_dir)\n",
    "\n",
    "            logger.info(f\"Downloaded data from {dataset_url} into file {zip_download_dir}\")\n",
    "        \n",
    "        except Exception as e:\n",
    "            raise e\n",
    "    \n",
    "    def extract_zip_file(self):\n",
    "        '''\n",
    "        zip_file_path: str\n",
    "        extracts the zip file into the data directory\n",
    "        Function returns None.\n",
    "        '''\n",
    "        unzip_path = self.config.unzip_dir\n",
    "        os.makedirs(unzip_path, exist_ok=True)\n",
    "        with zipfile.ZipFile(self.config.local_data_file, 'r') as zip_ref:\n",
    "            zip_ref.extractall(unzip_path)\n"
   ]
  },
  {
   "cell_type": "code",
   "execution_count": 51,
   "id": "b730a666",
   "metadata": {},
   "outputs": [
    {
     "name": "stdout",
     "output_type": "stream",
     "text": [
      "[2025-05-26 17:31:23,948: INFO: common: yaml file: config\\config.yaml loaded successfully]\n",
      "[2025-05-26 17:31:23,949: INFO: common: yaml file: params.yaml loaded successfully]\n",
      "[2025-05-26 17:31:23,949: INFO: common: created directory at: artifacts]\n",
      "[2025-05-26 17:31:23,950: INFO: common: created directory at: artifacts/data_ingestion]\n",
      "[2025-05-26 17:31:23,951: INFO: 1111530822: Downloading data from https://drive.google.com/file/d/1WM_Qn1Mj7BGoTR2E3YgRplQA3m2j_rJZ/view?usp=sharing]\n"
     ]
    },
    {
     "name": "stderr",
     "output_type": "stream",
     "text": [
      "Downloading...\n",
      "From (original): https://drive.google.com/uc?/export=download&id=1WM_Qn1Mj7BGoTR2E3YgRplQA3m2j_rJZ\n",
      "From (redirected): https://drive.google.com/uc?%2Fexport=download&id=1WM_Qn1Mj7BGoTR2E3YgRplQA3m2j_rJZ&confirm=t&uuid=defad8bf-86cc-4f00-bd90-c1c5e0888353\n",
      "To: d:\\mlopsproject1\\E2E-MLOps\\artifacts\\data_ingestion\\data.zip\n",
      "100%|██████████| 28.8M/28.8M [00:01<00:00, 22.5MB/s]"
     ]
    },
    {
     "name": "stdout",
     "output_type": "stream",
     "text": [
      "[2025-05-26 17:31:29,471: INFO: 1111530822: Downloaded data from https://drive.google.com/file/d/1WM_Qn1Mj7BGoTR2E3YgRplQA3m2j_rJZ/view?usp=sharing into file artifacts/data_ingestion/data.zip]\n"
     ]
    },
    {
     "name": "stderr",
     "output_type": "stream",
     "text": [
      "\n"
     ]
    }
   ],
   "source": [
    "try:\n",
    "    config = ConfigurationManager()\n",
    "    data_ingestion_config = config.get_data_ingestion_config()\n",
    "    data_ingestion = DataIngestion(config=data_ingestion_config)\n",
    "    data_ingestion.download_file()\n",
    "    data_ingestion.extract_zip_file()\n",
    "except Exception as e:\n",
    "    raise e\n"
   ]
  }
 ],
 "metadata": {
  "kernelspec": {
   "display_name": "mlopsproject",
   "language": "python",
   "name": "python3"
  },
  "language_info": {
   "codemirror_mode": {
    "name": "ipython",
    "version": 3
   },
   "file_extension": ".py",
   "mimetype": "text/x-python",
   "name": "python",
   "nbconvert_exporter": "python",
   "pygments_lexer": "ipython3",
   "version": "3.9.21"
  }
 },
 "nbformat": 4,
 "nbformat_minor": 5
}
